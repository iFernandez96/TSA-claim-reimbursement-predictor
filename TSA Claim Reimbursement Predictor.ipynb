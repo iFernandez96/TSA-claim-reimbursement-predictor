{
 "cells": [
  {
   "cell_type": "markdown",
   "metadata": {},
   "source": [
    "# TSA Claim Reimbursement Predictor"
   ]
  },
  {
   "cell_type": "markdown",
   "metadata": {},
   "source": [
    "By: Israel Fernandez, Haider Syed"
   ]
  },
  {
   "cell_type": "markdown",
   "metadata": {},
   "source": [
    "Objective: The objective of this report is to write a machine learning algorithm to answer some crucial questions that people may have when taking flights with valuable belongings. We will illustrate the likelyhood of getting a refund, what percentage of what you ask for you might actually get reimbursed, and whether or not you should feel comfortable taking said belongings to the airport."
   ]
  },
  {
   "cell_type": "code",
   "execution_count": 5,
   "metadata": {},
   "outputs": [],
   "source": [
    "# All imports\n",
    "import numpy as np\n",
    "import pandas as pd\n",
    "import matplotlib.pyplot as plt\n",
    "import seaborn as sns\n",
    "from sklearn.model_selection import train_test_split\n",
    "from sklearn.metrics import confusion_matrix\n",
    "from sklearn.tree import DecisionTreeClassifier, export_graphviz, plot_tree\n",
    "from sklearn.model_selection import learning_curve, GridSearchCV\n",
    "from sklearn.model_selection import cross_val_score\n",
    "from sklearn import tree\n",
    "from IPython.display import display, HTML"
   ]
  },
  {
   "cell_type": "markdown",
   "metadata": {},
   "source": [
    "We took data from https://www.kaggle.com/datasets/terminal-security-agency/tsa-claims-database/data"
   ]
  },
  {
   "cell_type": "code",
   "execution_count": 6,
   "metadata": {},
   "outputs": [
    {
     "name": "stderr",
     "output_type": "stream",
     "text": [
      "C:\\Users\\israe\\AppData\\Local\\Temp\\ipykernel_26664\\3021715513.py:1: DtypeWarning: Columns (0,11,12) have mixed types. Specify dtype option on import or set low_memory=False.\n",
      "  df = pd.read_csv('tsa_claims.csv')\n"
     ]
    }
   ],
   "source": [
    "df = pd.read_csv('tsa_claims.csv')"
   ]
  },
  {
   "cell_type": "markdown",
   "metadata": {},
   "source": [
    "The dataset contains information about claims that were made against the TSA for property damage, lost or damaged property. These claims are generally filed against the TSA for personal injuries, lost or damaged property during screenings. \n",
    "\n",
    "This dataset is the record of claims between 2002 - 2015 recoreded by the TSA."
   ]
  },
  {
   "cell_type": "markdown",
   "metadata": {},
   "source": [
    "The dataset contains the following data:"
   ]
  },
  {
   "cell_type": "code",
   "execution_count": 7,
   "metadata": {},
   "outputs": [
    {
     "name": "stdout",
     "output_type": "stream",
     "text": [
      "<class 'pandas.core.frame.DataFrame'>\n",
      "RangeIndex: 204267 entries, 0 to 204266\n",
      "Data columns (total 13 columns):\n",
      " #   Column         Non-Null Count   Dtype \n",
      "---  ------         --------------   ----- \n",
      " 0   Claim Number   204267 non-null  object\n",
      " 1   Date Received  204004 non-null  object\n",
      " 2   Incident Date  202084 non-null  object\n",
      " 3   Airport Code   195743 non-null  object\n",
      " 4   Airport Name   195743 non-null  object\n",
      " 5   Airline Name   169893 non-null  object\n",
      " 6   Claim Type     196354 non-null  object\n",
      " 7   Claim Site     203527 non-null  object\n",
      " 8   Item           200301 non-null  object\n",
      " 9   Claim Amount   200224 non-null  object\n",
      " 10  Status         204262 non-null  object\n",
      " 11  Close Amount   135315 non-null  object\n",
      " 12  Disposition    131359 non-null  object\n",
      "dtypes: object(13)\n",
      "memory usage: 20.3+ MB\n"
     ]
    }
   ],
   "source": [
    "df.info()"
   ]
  },
  {
   "cell_type": "markdown",
   "metadata": {},
   "source": [
    "The data contains a lot of information that, although is good to have, is not necessary for our purposes. We are going to clean it up a bit."
   ]
  },
  {
   "cell_type": "code",
   "execution_count": null,
   "metadata": {},
   "outputs": [],
   "source": [
    "# Helper function to clean data\n",
    "def clean_data(col):\n",
    "    cleaned_data = df[col].str.replace(\"$\", \"\", regex=False).str.replace(\";\",\"\").str.replace(\" \", \"\").replace(\"-\",float(\"NaN\"))\n",
    "    return cleaned_data.convert_dtypes(float)\n",
    "# Clean the claim amounts to floats\n",
    "df[\"Claim Amount\"] = clean_data('Claim Amount')\n",
    "\n",
    "# Drop NA values for Close Amount and Claim Amount as they are not important\n",
    "df = df.dropna(subset = ['Close Amount'])\n",
    "df = df.dropna(subset = ['Claim Amount'])\n",
    "\n",
    "# We do not need Airline Names. We will be using Airline Codes\n",
    "df = df.drop('Airline Name', axis=1)\n",
    "\n",
    "# Ignore Items that do not have a description\n",
    "df = df.dropna(subset = ['Item'])\n",
    "\n",
    "# \n",
    "df['Item'].value_counts()\n",
    "item_counts = df['Item'].value_counts()\n",
    "items_to_keep = item_counts[item_counts >= 1000].index\n",
    "df = df[df['Item'].isin(items_to_keep)]\n",
    "df = df[df['Item'] != 'Other']\n"
   ]
  }
 ],
 "metadata": {
  "kernelspec": {
   "display_name": "base",
   "language": "python",
   "name": "python3"
  },
  "language_info": {
   "codemirror_mode": {
    "name": "ipython",
    "version": 3
   },
   "file_extension": ".py",
   "mimetype": "text/x-python",
   "name": "python",
   "nbconvert_exporter": "python",
   "pygments_lexer": "ipython3",
   "version": "3.12.3"
  }
 },
 "nbformat": 4,
 "nbformat_minor": 2
}
